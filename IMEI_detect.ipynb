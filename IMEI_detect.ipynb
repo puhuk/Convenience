{
 "cells": [
  {
   "cell_type": "code",
   "execution_count": 2,
   "metadata": {},
   "outputs": [],
   "source": [
    "from PIL import Image\n",
    "import PIL.Image\n",
    "import cv2\n",
    "\n",
    "from pytesseract import image_to_string\n",
    "import pytesseract\n",
    "\n",
    "pytesseract.pytesseract.tesseract_cmd = r\"C:\\Program Files (x86)\\Tesseract-OCR\\tesseract.exe\"\n",
    "TESSDATA_PREFIX = 'C:/Program Files (x86)/Tesseract-OCR'\n",
    "\n",
    "#output = pytesseract.image_to_string(PIL.Image.open('IMEI_3.jpg').convert(\"RGB\"), lang='eng+kor').replace(\"\\n\",\"\\t\")\n",
    "#print(output)"
   ]
  },
  {
   "cell_type": "code",
   "execution_count": 38,
   "metadata": {},
   "outputs": [],
   "source": [
    "from PIL import Image\n",
    "import PIL.Image\n",
    "import cv2\n",
    "\n",
    "from pytesseract import image_to_string\n",
    "import pytesseract\n",
    "\n",
    "pytesseract.pytesseract.tesseract_cmd = r\"C:\\Program Files (x86)\\Tesseract-OCR\\tesseract.exe\"\n",
    "TESSDATA_PREFIX = 'C:/Program Files (x86)/Tesseract-OCR'\n",
    "\n"
   ]
  },
  {
   "cell_type": "markdown",
   "metadata": {},
   "source": [
    "### Galaxy SN & IMEI"
   ]
  },
  {
   "cell_type": "code",
   "execution_count": 15,
   "metadata": {},
   "outputs": [
    {
     "name": "stdout",
     "output_type": "stream",
     "text": [
      "S/N : 123456789\n"
     ]
    }
   ],
   "source": [
    "# img=cv2.imread('IMEI_1.jpg',0)\n",
    "img=cv2.imread('IMEI_4.jpg',0)\n",
    "img = cv2.Canny(img,100,100)\n",
    "\n",
    "out = \"\"\n",
    "length=0\n",
    "expected=['ImeI','IMEI','IMEI', 'Imel']\n",
    "output = pytesseract.image_to_string(img, lang='eng').replace('\\n',' ').replace('  ',' ').split(' ')\n",
    "for i in range(len(output)):\n",
    "    if output[i] in expected:\n",
    "        k=1\n",
    "        while(length<11):\n",
    "            out = output[i-k]+out\n",
    "            length=len(out)\n",
    "            #print(out, length)\n",
    "            k=k+1\n",
    "            \n",
    "print('S/N :', 123456789)"
   ]
  },
  {
   "cell_type": "code",
   "execution_count": 16,
   "metadata": {},
   "outputs": [
    {
     "name": "stdout",
     "output_type": "stream",
     "text": [
      "IMEI : 123456789\n"
     ]
    }
   ],
   "source": [
    "# img=cv2.imread('IMEI_1.jpg',0)\n",
    "img=cv2.imread('IMEI_4.jpg',0)\n",
    "img = cv2.Canny(img,100,100)\n",
    "\n",
    "out = \"\"\n",
    "length=0\n",
    "expected=['ImeI','IMEI','IMEI', 'Imel']\n",
    "output = pytesseract.image_to_string(img, lang='eng').replace('\\n',' ').replace('  ',' ').split(' ')\n",
    "for i in range(len(output)):\n",
    "    if output[i] in expected:\n",
    "        k=1\n",
    "        out = output[i+1]+out\n",
    "        length=len(out)\n",
    "        #print(out, length)\n",
    "        k=k+1\n",
    "            \n",
    "print('IMEI :', 123456789)"
   ]
  },
  {
   "cell_type": "markdown",
   "metadata": {},
   "source": [
    "### IPHONE SN & IMEI"
   ]
  },
  {
   "cell_type": "code",
   "execution_count": 17,
   "metadata": {},
   "outputs": [
    {
     "name": "stdout",
     "output_type": "stream",
     "text": [
      "S/N : 123456789\n"
     ]
    }
   ],
   "source": [
    "img=cv2.imread('IPHONE_SN2.png',0)\n",
    "img = cv2.Canny(img,100,100)\n",
    "\n",
    "out = \"\"\n",
    "length=0\n",
    "expected=['iPhone']\n",
    "output = pytesseract.image_to_string(img, lang='kor+eng').replace('\\n',' ').replace('  ','').split(' ')\n",
    "for i in range(len(output)):\n",
    "    if len(output[i])==12:\n",
    "        out = output[i]\n",
    "        \n",
    "\n",
    "print('S/N :', 123456789)"
   ]
  },
  {
   "cell_type": "code",
   "execution_count": 18,
   "metadata": {},
   "outputs": [
    {
     "name": "stdout",
     "output_type": "stream",
     "text": [
      "IMEI : 123456789\n"
     ]
    }
   ],
   "source": [
    "img=cv2.imread('IMEI_IPHONE.png',0)\n",
    "img = cv2.Canny(img,100,100)\n",
    "\n",
    "cv2.imwrite(\"a.jpg\",img)\n",
    "out = \"\"\n",
    "length=0\n",
    "expected=['IMEI']\n",
    "k=1\n",
    "output = pytesseract.image_to_string(img, lang='kor+eng').replace('\\n',' ').replace('  ','').split(' ')\n",
    "for i in range(len(output)):\n",
    "    if output[i] in expected:\n",
    "        while(len(out)<14):\n",
    "            out = out+output[i+k]\n",
    "            k=k+1\n",
    "\n",
    "print('IMEI :', 123456789)"
   ]
  }
 ],
 "metadata": {
  "kernelspec": {
   "display_name": "Python 3",
   "language": "python",
   "name": "python3"
  },
  "language_info": {
   "codemirror_mode": {
    "name": "ipython",
    "version": 3
   },
   "file_extension": ".py",
   "mimetype": "text/x-python",
   "name": "python",
   "nbconvert_exporter": "python",
   "pygments_lexer": "ipython3",
   "version": "3.7.4"
  }
 },
 "nbformat": 4,
 "nbformat_minor": 2
}
